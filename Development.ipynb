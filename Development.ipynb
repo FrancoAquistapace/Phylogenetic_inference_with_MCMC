{
 "cells": [
  {
   "cell_type": "code",
   "execution_count": 1,
   "id": "c071acb8-2cce-4874-8cad-9464d50bd308",
   "metadata": {},
   "outputs": [],
   "source": [
    "# Import libraries\n",
    "import pandas as pd\n",
    "import numpy as np\n",
    "import matplotlib.pyplot as plt\n",
    "import networkx as nx"
   ]
  },
  {
   "cell_type": "markdown",
   "id": "92676e75-a9f6-4eaa-815e-f0f48fa91598",
   "metadata": {},
   "source": [
    "# Development of a Jukes-Cantor pipeline for generation of synthetic data"
   ]
  },
  {
   "cell_type": "markdown",
   "id": "2ca3c509-878e-4de0-9a4d-5c1ce63f7494",
   "metadata": {},
   "source": [
    "## Graph functions"
   ]
  },
  {
   "cell_type": "code",
   "execution_count": 171,
   "id": "ca6038f8-61ab-4975-8e26-730a50e182ce",
   "metadata": {},
   "outputs": [],
   "source": [
    "# Function to calculate the weight of a tree split\n",
    "def get_split_weight(n_L, n_R):\n",
    "    '''\n",
    "    Params:\n",
    "        n_L, n_R : int\n",
    "            Number of leaves in the left and right\n",
    "            subtrees, respectively, that would result\n",
    "            from the proposed split.\n",
    "    Output:\n",
    "        Returns the weight of the split as the amount \n",
    "        of subsequent splits that can be performed on\n",
    "        the resulting subtrees:\n",
    "        \n",
    "            max(1, floor(n_L / 2)) * floor(n_R / 2)\n",
    "            \n",
    "        This results stems from removing isomorfisms\n",
    "        from the possible splits, by imposing that the \n",
    "        main branches of any tree have to be ordered \n",
    "        by amount of leaves from left to right. Thus,\n",
    "        n_L <= n_R.\n",
    "    '''\n",
    "    # Check that the constraint is fulfilled\n",
    "    if np.any(n_L > n_R):\n",
    "        print('Error: n_L cannot be larger than n_R.')\n",
    "        return \n",
    "\n",
    "    n_L_term = np.clip(np.floor(n_L/2), a_min=1, a_max=n_R) \n",
    "    n_R_term = np.clip(np.floor(n_R/2), a_min=1, a_max=n_R)\n",
    "    return (n_L_term * n_R_term).astype('int')\n",
    "\n",
    "\n",
    "# Function to sample a split from a number of leaves\n",
    "def sample_split(n_leaves):\n",
    "    '''\n",
    "    Params:\n",
    "        n_leaves : int\n",
    "            Number of current leaves in the tree to be \n",
    "            split.\n",
    "    Output:\n",
    "        Returns a split that is sampled non-uniformly,\n",
    "        where the probability of a given split is \n",
    "        proportional to the number of possible topologies\n",
    "        that can be obtained from the split.\n",
    "    '''\n",
    "    # Define all possible splits\n",
    "    n_L = np.arange(int(np.floor(n_leaves/2))) + 1\n",
    "    n_R = n_leaves - n_L\n",
    "\n",
    "    # Get weights and probabilities\n",
    "    w = get_split_weight(n_L, n_R)\n",
    "    p = w / np.sum(w)\n",
    "\n",
    "    # Sample one split\n",
    "    idx = np.random.choice(np.arange(len(n_L)), p=p)\n",
    "    split = [n_L[idx], n_R[idx]]\n",
    "\n",
    "    return split\n",
    "    \n",
    "\n",
    "# Function for sampling binary tree toplogies non-uniformly\n",
    "# but in a guided manner\n",
    "def sample_biased_topology(n_leaves, seed=None):\n",
    "    '''\n",
    "    Params:\n",
    "        n_leaves : int\n",
    "            Number of leaves for the tree, must be greater\n",
    "            than 1.\n",
    "        seed : int (optional)\n",
    "            Seed for the numpy random generator, not used\n",
    "            by default.\n",
    "    Output:\n",
    "        Returns a rooted binary tree with the amount of \n",
    "        specified leaves, with a topology sampled \n",
    "        non-uniformly at random from the space of all \n",
    "        possible configurations up to isomorfism. The \n",
    "        topology is returned as nested tuple.\n",
    "        \n",
    "        The sampling is performed so that each sub-tree\n",
    "        is sampled uniformly. This sampling is supposed to\n",
    "        be used in an exploratory manner, to get all the \n",
    "        unique topologies with as little samples as possible.\n",
    "    '''\n",
    "    # Initialize seed if given\n",
    "    if seed != None:\n",
    "        np.random.seed(seed)\n",
    "\n",
    "    # If 3 or less leaves are left, then return the\n",
    "    # trivial structures\n",
    "    if n_leaves == 1:\n",
    "        return 1\n",
    "    elif n_leaves == 2:\n",
    "        return [1, 1]\n",
    "    elif n_leaves == 3:\n",
    "        return [1, [1, 1]]\n",
    "        \n",
    "    # Else, initialize tree topology\n",
    "    top = []\n",
    "\n",
    "    # Perform a split\n",
    "    n_L, n_R = sample_split(n_leaves)\n",
    "\n",
    "    # Operate recursively until all leaves are asigned\n",
    "    top = [sample_biased_topology(n_L), \n",
    "           sample_biased_topology(n_R)]\n",
    "    return top"
   ]
  },
  {
   "cell_type": "markdown",
   "id": "dd1288f6-f2b3-4cc5-940f-7ddfe4ae8e21",
   "metadata": {},
   "source": [
    "## Jukes-Cantor model functions"
   ]
  },
  {
   "cell_type": "markdown",
   "id": "ccfba539-1236-43b2-bf0d-733110778121",
   "metadata": {},
   "source": [
    "## Visualization"
   ]
  },
  {
   "cell_type": "markdown",
   "id": "10dfbb05-83e3-44db-9e6b-1788931d0206",
   "metadata": {},
   "source": [
    "## Testing "
   ]
  },
  {
   "cell_type": "markdown",
   "id": "cb0efc2d-8985-4f44-8c7d-215a5071f9b1",
   "metadata": {},
   "source": [
    "### Checking the correct behavior of our graph generation pipeline"
   ]
  },
  {
   "cell_type": "code",
   "execution_count": 169,
   "id": "9d683c58-e00d-413a-b036-5e93c32dcaf4",
   "metadata": {},
   "outputs": [],
   "source": [
    "# Let's check that our topology sampler works properly under the imposed \n",
    "# constraints, for small values of n:\n",
    "# Set overall seed\n",
    "np.random.seed(42)\n",
    "\n",
    "# Get samples\n",
    "N = 10\n",
    "N_samples = int(1e6)\n",
    "samples = [str(sample_biased_topology(N)) for i in range(N_samples)]\n",
    "samples = pd.Series(samples)\n",
    "\n",
    "# Get unique counts\n",
    "unique_counts = list(samples.value_counts())\n",
    "num_unique = len(unique_counts)"
   ]
  },
  {
   "cell_type": "code",
   "execution_count": 170,
   "id": "086cb818-1d87-42a5-9830-178196968c4c",
   "metadata": {},
   "outputs": [
    {
     "data": {
      "image/png": "[encoded data removed]",
      "text/plain": [
       "<Figure size 640x480 with 1 Axes>"
      ]
     },
     "metadata": {},
     "output_type": "display_data"
    }
   ],
   "source": [
    "# Plot results\n",
    "plt.plot(np.arange(num_unique), np.array(unique_counts) / N_samples)\n",
    "plt.ylim(bottom=0, top = 1.1 * np.max(unique_counts) / N_samples);"
   ]
  },
  {
   "cell_type": "code",
   "execution_count": null,
   "id": "56a6c115-62f9-4f02-8773-8ee9f218ef6f",
   "metadata": {},
   "outputs": [],
   "source": []
  }
 ],
 "metadata": {
  "kernelspec": {
   "display_name": "Python 3 (ipykernel)",
   "language": "python",
   "name": "python3"
  },
  "language_info": {
   "codemirror_mode": {
    "name": "ipython",
    "version": 3
   },
   "file_extension": ".py",
   "mimetype": "text/x-python",
   "name": "python",
   "nbconvert_exporter": "python",
   "pygments_lexer": "ipython3",
   "version": "3.9.23"
  }
 },
 "nbformat": 4,
 "nbformat_minor": 5
}

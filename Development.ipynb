{
 "cells": [
  {
   "cell_type": "code",
   "execution_count": 1,
   "id": "c071acb8-2cce-4874-8cad-9464d50bd308",
   "metadata": {},
   "outputs": [],
   "source": [
    "# Import libraries\n",
    "import pandas as pd\n",
    "import numpy as np\n",
    "import matplotlib.pyplot as plt\n",
    "import networkx as nx"
   ]
  },
  {
   "cell_type": "markdown",
   "id": "92676e75-a9f6-4eaa-815e-f0f48fa91598",
   "metadata": {},
   "source": [
    "# Development of a Jukes-Cantor pipeline for generation of synthetic data"
   ]
  },
  {
   "cell_type": "markdown",
   "id": "2ca3c509-878e-4de0-9a4d-5c1ce63f7494",
   "metadata": {},
   "source": [
    "## Graph functions"
   ]
  },
  {
   "cell_type": "markdown",
   "id": "dd1288f6-f2b3-4cc5-940f-7ddfe4ae8e21",
   "metadata": {},
   "source": [
    "## Jukes-Cantor model functions"
   ]
  },
  {
   "cell_type": "markdown",
   "id": "10dfbb05-83e3-44db-9e6b-1788931d0206",
   "metadata": {},
   "source": [
    "## Testing "
   ]
  },
  {
   "cell_type": "code",
   "execution_count": null,
   "id": "5209c47d-07f6-4e38-80c4-c0ced37bb1cc",
   "metadata": {},
   "outputs": [],
   "source": []
  }
 ],
 "metadata": {
  "kernelspec": {
   "display_name": "Python 3 (ipykernel)",
   "language": "python",
   "name": "python3"
  },
  "language_info": {
   "codemirror_mode": {
    "name": "ipython",
    "version": 3
   },
   "file_extension": ".py",
   "mimetype": "text/x-python",
   "name": "python",
   "nbconvert_exporter": "python",
   "pygments_lexer": "ipython3",
   "version": "3.9.23"
  }
 },
 "nbformat": 4,
 "nbformat_minor": 5
}
